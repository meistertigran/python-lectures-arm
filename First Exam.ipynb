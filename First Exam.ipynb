{
 "cells": [
  {
   "cell_type": "markdown",
   "id": "08735975-b762-47e9-86ed-4c1c07f00c4e",
   "metadata": {},
   "source": [
    "# 1. Python NumPy\n",
    "\n",
    "**Ընդհանուր միավոր՝ 10, կշիռ` 3.5**\n",
    "\n",
    "### Մաս 1․ (3 միավոր)\n",
    "Ստեղծեք հետևյալ վեկտորները և մատրիցները NumPy-ի օգնությամբ․\n",
    "\n",
    "ա) Ստեղծեք 1-ից 15 թվերից բաղկացած միաչափ զանգված (0.5 միավոր)\n",
    "բ) Ստեղծեք 3x4 մատրից՝ պատահական թվերով [0, 1] միջակայքից (1 միավոր)\n",
    "գ) Ստեղծեք 4x4 միավոր մատրից (identity matrix) (0.5 միավոր)\n",
    "դ) Ստեղծեք 3x3 զրոներից բաղկացած մատրից, որի անկյունագծի վրա դրված են 5-եր (1 միավոր)\n",
    "\n",
    "### Մաս 2․ (4 միավոր)\n",
    "Տրված է հետևյալ մատրիցը՝\n",
    "```python\n",
    "A = np.array([[4, 2, 8],\n",
    "              [1, 5, 3],\n",
    "              [7, 9, 6]])\n",
    "```\n",
    "\n",
    "ա) Հաշվեք մատրիցի՝\n",
    "- նվազագույն արժեքը (0.5 միավոր)\n",
    "- առավելագույն արժեքը (0.5 միավոր)\n",
    "- միջին արժեքը (0.5 միավոր)\n",
    "- յուրաքանչյուր սյան միջին արժեքը (1 միավոր)\n",
    "\n",
    "բ) Գտեք այն տարրերը, որոնք մեծ են 5-ից և փոխարինեք դրանք 0-ներով (1.5 միավոր)\n",
    "\n",
    "### Մաս 3․ (3 միավոր)\n",
    "Պատասխանեք հետևյալ տեսական հարցերին․\n",
    "\n",
    "ա) Ի՞նչ տարբերություն կա NumPy-ի `np.array()` և Python-ի ստանդարտ ցուցակների միջև։ Նշեք առնվազն 2 տարբերություն։ (1 միավոր)\n",
    "\n",
    "բ) Ի՞նչ է broadcasting-ը NumPy-ում։ Բերեք մեկ պարզ օրինակ։ (1 միավոր)\n",
    "\n",
    "գ) Ինչպե՞ս կարող եք ստուգել NumPy մատրիցի չափերը (shape)։ Գրեք համապատասխան հրամանը։ (1 միավոր)\n",
    "\n",
    "### Հուշում՝\n",
    "Ձեր կոդը պետք է սկսվի հետևյալ տողով՝\n",
    "```python\n",
    "import numpy as np\n",
    "```"
   ]
  },
  {
   "cell_type": "code",
   "execution_count": 4,
   "id": "88d79d94-4da8-4852-b876-9ff366494ba3",
   "metadata": {},
   "outputs": [
    {
     "name": "stdout",
     "output_type": "stream",
     "text": [
      "[8 7 9 6]\n"
     ]
    }
   ],
   "source": [
    "# harc 1 mas 1\n",
    "import numpy as np\n",
    "\n",
    "A = np.array([[4, 2, 8],\n",
    "              [1, 5, 3],\n",
    "              [7, 9, 6]])\n",
    "print(A[A > 5])"
   ]
  },
  {
   "cell_type": "markdown",
   "id": "8f00a69f-3bc8-40fc-95c7-6cf735f592da",
   "metadata": {},
   "source": [
    "# 2. Python Matplotlib\n",
    "\n",
    "**Ընդհանուր միավոր՝ 10, կշիռ` 3.5**\n",
    "\n",
    "### Մաս 1․ Հիմնական Գրաֆիկներ (4 միավոր)\n",
    "\n",
    "Օգտագործելով հետևյալ տվյալները՝\n",
    "```python\n",
    "import numpy as np\n",
    "import matplotlib.pyplot as plt\n",
    "\n",
    "x = np.linspace(0, 10, 20)\n",
    "y1 = 2*x + 1\n",
    "y2 = x**2\n",
    "```\n",
    "\n",
    "ա) Ստեղծեք գծային գրաֆիկ (line plot) y1-ի համար՝ (2 միավոր)\n",
    "- Կարմիր գույնով և կետագծերով (dashed line)\n",
    "- Վերնագրով՝ «Գծային Ֆունկցիա»\n",
    "- x առանցքի պիտակով՝ «x արժեքներ»\n",
    "- y առանցքի պիտակով՝ «y արժեքներ»\n",
    "- Ցույց տվեք ցանցը (grid)\n",
    "\n",
    "բ) Նույն գրաֆիկի վրա ավելացրեք y2-ը՝ (2 միավոր)\n",
    "- Կապույտ գույնով\n",
    "- Ավելացրեք լեգենդ երկու գրաֆիկների համար («Գծային» և «Քառակուսային»)\n",
    "- Պահպանեք գրաֆիկը որպես 'functions.png' ֆայլ\n",
    "\n",
    "### Մաս 2․ Ենթագրաֆիկներ (Subplots) (3 միավոր)\n",
    "\n",
    "Օգտագործելով հետևյալ տվյալները՝\n",
    "```python\n",
    "temperatures = [20, 22, 25, 27, 23, 21, 19]\n",
    "days = ['Երկ', 'Երք', 'Չրք', 'Հնգ', 'Ուրբ', 'Շբթ', 'Կիր']\n",
    "sizes = [15, 30, 45, 10, 25]\n",
    "categories = ['A', 'B', 'C', 'D', 'E']\n",
    "```\n",
    "\n",
    "Ստեղծեք երկու ենթագրաֆիկ կողք կողքի (1x2 subplot)՝\n",
    "\n",
    "ա) Առաջին ենթագրաֆիկում՝ (1.5 միավոր)\n",
    "- Սյունակային դիագրամ (bar plot) շաբաթվա ջերմաստիճանների համար\n",
    "- Վերնագիր՝ «Շաբաթվա Ջերմաստիճաններ»\n",
    "- Սյուների գույները պետք է լինեն կանաչ\n",
    "\n",
    "բ) Երկրորդ ենթագրաֆիկում՝ (1.5 միավոր)\n",
    "- Շրջանային դիագրամ (pie chart) sizes և categories տվյալների համար\n",
    "- Ցույց տվեք տոկոսները\n",
    "- Վերնագիր՝ «Կատեգորիաների Բաշխում»\n",
    "\n",
    "### Մաս 3․ Տեսական Հարցեր (6 միավոր)\n",
    "\n",
    "ա) Ինչո՞վ է տարբերվում `plt.show()`-ն `plt.savefig()`-ից։ Ե՞րբ է պետք օգտագործել յուրաքանչյուրը։ (2 միավոր)\n",
    "\n",
    "բ) Ինչպե՞ս կարող եք փոխել գրաֆիկի չափսերը (figure size)։ Գրեք համապատասխան կոդը։ (2 միավոր)\n",
    "\n",
    "գ) Ի՞նչ է style-ը matplotlib-ում և ինչպե՞ս կարող եք փոխել այն։ Նշեք առնվազն մեկ style-ի անուն։ (2 միավոր)\n",
    "\n",
    "### Լուծման օրինակ՝\n",
    "Ձեր կոդը պետք է սկսվի հետևյալ տողերով՝\n",
    "```python\n",
    "import matplotlib.pyplot as plt\n",
    "import numpy as np\n",
    "```\n",
    "\n",
    "**Նշում՝** \n",
    "- Յուրաքանչյուր գրաֆիկ պետք է պարունակի հստակ պիտակներ և վերնագրեր\n",
    "- Կոդը պետք է լինի մաքուր և մեկնաբանված\n",
    "- Գրաֆիկները պետք է լինեն ընթեռնելի և գեղագիտորեն հաճելի"
   ]
  },
  {
   "cell_type": "markdown",
   "id": "e2fa4b36-47b6-43e9-bdd5-f3ca1a2ba79e",
   "metadata": {},
   "source": [
    "# 3. Python Pandas\n",
    "**Ընդհանուր միավոր՝ 10, կշիռ՝ 3**\n",
    "\n",
    "### Տվյալների նկարագրություն\n",
    "Ձեզ տրված է `armenia-salaries-clean.xlsx` ֆայլը, որը պարունակում է Հայաստանի և մարզերի միջին աշխատավարձերը՝ ըստ եռամսյակների։ Տվյալները ներկայացված են հետևյալ սյուներով՝\n",
    "- Quarter (Եռամսյակ)\n",
    "- Yerevan (Երևան)\n",
    "- Armavir (Արմավիր)\n",
    "- Syunik (Սյունիք)\n",
    "- Lori (Լոռի)\n",
    "և այլն։\n",
    "\n",
    "### Առաջադրանքներ\n",
    "\n",
    "**Մաս 1․ Տվյալների ընթերցում և վերլուծություն (6 միավոր)**\n",
    "\n",
    "ա) Կարդացեք Excel ֆայլը pandas-ի օգնությամբ (1 միավոր)\n",
    "```python\n",
    "# Օգտագործեք pd.read_excel() ֆունկցիան\n",
    "```\n",
    "\n",
    "բ) Հաշվեք յուրաքանչյուր մարզի միջին աշխատավարձը ամբողջ ժամանակահատվածի համար (2 միավոր)\n",
    "- Օգտագործեք mean() ֆունկցիան\n",
    "- Տպեք արդյունքները նվազման կարգով\n",
    "- Կլորացրեք արդյունքները մինչև ամբողջ թիվ\n",
    "\n",
    "գ) Գտեք առավելագույն և նվազագույն աշխատավարձերը Երևանում, ցույց տալով համապատասխան եռամսյակները (3 միավոր)\n",
    "\n",
    "**Մաս 2․ Տվյալների վիզուալիզացիա (4 միավոր)**\n",
    "\n",
    "ա) Ստեղծեք գրաֆիկ Սյունիք մարզի աշխատավարձերի դինամիկայի համար (4 միավոր)\n",
    "- Օգտագործեք գծային գրաֆիկ (plot)\n",
    "- Ավելացրեք վերնագիր («Սյունիքի միջին աշխատավարձի դինամիկա»)\n",
    "- Նշեք առանցքների անունները (x = «Եռամսյակ», y = «Միջին աշխատավարձ (դրամ)»)\n",
    "- Ցույց տվեք ցանցը (grid)\n",
    "- Գրաֆիկը պետք է լինի կապույտ գույնի\n",
    "- x առանցքի պիտակները (եռամսյակները) պետք է լինեն 45 աստիճան թեքությամբ\n",
    "\n",
    "### Լուծման օրինակ՝\n",
    "Ձեր կոդը պետք է սկսվի հետևյալ տողերով՝\n",
    "```python\n",
    "import numpy as np\n",
    "import pandas as pd\n",
    "import matplotlib.pyplot as plt\n",
    "```"
   ]
  },
  {
   "cell_type": "code",
   "execution_count": 19,
   "id": "279808a2-7da1-4498-8ead-aea339d95192",
   "metadata": {},
   "outputs": [],
   "source": [
    "import numpy as np\n",
    "import pandas as pd\n",
    "import matplotlib.pyplot as plt\n",
    "\n",
    "df = pd.read_excel(\"output/arm-salaries-clean.xlsx\", sheet_name=0, usecols=\"A:L\", index_col=0)"
   ]
  },
  {
   "cell_type": "code",
   "execution_count": 20,
   "id": "73094705-14c9-4c39-be3c-1794aa47d1c3",
   "metadata": {},
   "outputs": [
    {
     "data": {
      "text/plain": [
       "Syunik          280533.0\n",
       "Yerevan city    239758.0\n",
       "Ararat          176346.0\n",
       "Kotayk          154895.0\n",
       "Armavir         145699.0\n",
       "Vayots Dzor     143101.0\n",
       "Tavush          143018.0\n",
       "Lori            134793.0\n",
       "Aragatsotn      126456.0\n",
       "Gegharkunik     124259.0\n",
       "Shirak          123180.0\n",
       "dtype: float64"
      ]
     },
     "execution_count": 20,
     "metadata": {},
     "output_type": "execute_result"
    }
   ],
   "source": [
    "df.mean().sort_values(ascending=False).round()"
   ]
  },
  {
   "cell_type": "code",
   "execution_count": 22,
   "id": "f17526ac-9a23-466b-8e07-28c6b9f430e2",
   "metadata": {},
   "outputs": [
    {
     "data": {
      "text/plain": [
       "np.int64(329607)"
      ]
     },
     "execution_count": 22,
     "metadata": {},
     "output_type": "execute_result"
    }
   ],
   "source": [
    "df['Yerevan city'].max()"
   ]
  },
  {
   "cell_type": "code",
   "execution_count": 23,
   "id": "9b49c1a6-4045-450a-99e8-a8d28a5e6522",
   "metadata": {},
   "outputs": [
    {
     "data": {
      "text/plain": [
       "np.int64(188593)"
      ]
     },
     "execution_count": 23,
     "metadata": {},
     "output_type": "execute_result"
    }
   ],
   "source": [
    "df['Yerevan city'].min()"
   ]
  },
  {
   "cell_type": "code",
   "execution_count": 24,
   "id": "a16cb7eb-acb9-4a28-8d19-5fe2289904ea",
   "metadata": {},
   "outputs": [
    {
     "data": {
      "text/plain": [
       "Timestamp('2023-10-01 00:00:00')"
      ]
     },
     "execution_count": 24,
     "metadata": {},
     "output_type": "execute_result"
    }
   ],
   "source": [
    "df['Yerevan city'].idxmax()"
   ]
  },
  {
   "cell_type": "code",
   "execution_count": 25,
   "id": "1df6044d-18c5-44e6-81a2-48f84deb8baf",
   "metadata": {},
   "outputs": [
    {
     "data": {
      "text/plain": [
       "Timestamp('2018-04-01 00:00:00')"
      ]
     },
     "execution_count": 25,
     "metadata": {},
     "output_type": "execute_result"
    }
   ],
   "source": [
    "df['Yerevan city'].idxmin()"
   ]
  },
  {
   "cell_type": "code",
   "execution_count": 28,
   "id": "2667874d-5aec-4650-b0ce-ea5f41fad80a",
   "metadata": {},
   "outputs": [
    {
     "data": {
      "text/plain": [
       "Text(0.5, 1.0, 'Սյունիքի միջին աշխատավարձի դինամիկա')"
      ]
     },
     "execution_count": 28,
     "metadata": {},
     "output_type": "execute_result"
    },
    {
     "data": {
      "image/png": "[encoded data removed]",
      "text/plain": [
       "<Figure size 640x480 with 1 Axes>"
      ]
     },
     "metadata": {},
     "output_type": "display_data"
    }
   ],
   "source": [
    "df['Syunik'].plot()\n",
    "\n",
    "plt.title(\"Սյունիքի միջին աշխատավարձի դինամիկա\")"
   ]
  },
  {
   "cell_type": "code",
   "execution_count": null,
   "id": "8952cf7f-2887-40f9-90cb-0ea2d1eb7347",
   "metadata": {},
   "outputs": [],
   "source": []
  }
 ],
 "metadata": {
  "kernelspec": {
   "display_name": "Python 3 (ipykernel)",
   "language": "python",
   "name": "python3"
  },
  "language_info": {
   "codemirror_mode": {
    "name": "ipython",
    "version": 3
   },
   "file_extension": ".py",
   "mimetype": "text/x-python",
   "name": "python",
   "nbconvert_exporter": "python",
   "pygments_lexer": "ipython3",
   "version": "3.12.2"
  }
 },
 "nbformat": 4,
 "nbformat_minor": 5
}
