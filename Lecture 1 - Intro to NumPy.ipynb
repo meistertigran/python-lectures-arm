{
 "cells": [
  {
   "cell_type": "markdown",
   "id": "27d61004-c30f-4137-8f2d-a54cb43b60cc",
   "metadata": {
    "editable": true,
    "slideshow": {
     "slide_type": "slide"
    },
    "tags": []
   },
   "source": [
    "# Թվայլին հաշվարկենր Numpy-ով"
   ]
  },
  {
   "cell_type": "markdown",
   "id": "40e66b79-ef79-410b-b70a-1726a4e0e58a",
   "metadata": {
    "editable": true,
    "slideshow": {
     "slide_type": "fragment"
    },
    "tags": []
   },
   "source": [
    "## Ինչ է Numpy-ն?\n",
    "\n",
    "NumPy-ն (Numerical Python-ի hապավում) Python ծրագրավորման լեզվի հզոր գրադարան է, որը նախատեսված է թվային հաշվարկներ իրականցնելու համար: Այն կարելի է են ներմուծել `np` անվանմամբ հետևյալ հրահանգով։ "
   ]
  },
  {
   "cell_type": "code",
   "execution_count": 2,
   "id": "9a92df10-22c7-4dee-8229-add80c342101",
   "metadata": {
    "editable": true,
    "scrolled": true,
    "slideshow": {
     "slide_type": "fragment"
    },
    "tags": []
   },
   "outputs": [],
   "source": [
    "import numpy as np"
   ]
  },
  {
   "cell_type": "markdown",
   "id": "7cf9df6d-7796-47cf-8ac4-d147c226822b",
   "metadata": {},
   "source": [
    "NumPy-ում գործողությունների հիմնական տարրը բազմաչափ զանգվածն է (multdimensional array) որը տարբերվում է Python-ի սովորական զանգվածներից մի քանի կարևոր հատկանիշներով։"
   ]
  },
  {
   "cell_type": "markdown",
   "id": "e2197e96-b1b8-4cfe-807d-a7389342bc12",
   "metadata": {
    "editable": true,
    "slideshow": {
     "slide_type": "subslide"
    },
    "tags": []
   },
   "source": [
    "**Numpy-ի զանգվածները և Python-ի զանգվածները (list) ունեն մի քանի կարևոր տարբերություններ**"
   ]
  },
  {
   "cell_type": "markdown",
   "id": "e060e0f3-1ecb-45d9-aab0-10bd151ebfdc",
   "metadata": {
    "editable": true,
    "slideshow": {
     "slide_type": "fragment"
    },
    "tags": []
   },
   "source": [
    "1. **Տարրերի տիպ** - Numpy զանգվածները պահում են միևնույն տիպի տվյալներ, մինչդեռ Python-ի ցուցակները կարող են պարունակել տարբեր տիպի տարրեր:"
   ]
  },
  {
   "cell_type": "markdown",
   "id": "cd696563-d6a2-404f-acba-5ec30f417633",
   "metadata": {
    "editable": true,
    "slideshow": {
     "slide_type": "fragment"
    },
    "tags": []
   },
   "source": [
    "2. **Արագություն** - Numpy զանգվածները շատ ավելի արագ են մեծածավալ թվային հաշվարկների համար:"
   ]
  },
  {
   "cell_type": "markdown",
   "id": "24cbac80-0206-4be4-8c17-a5d2d7da3e24",
   "metadata": {
    "editable": true,
    "slideshow": {
     "slide_type": "fragment"
    },
    "tags": []
   },
   "source": [
    "3. **Հիշողության օգտագործում** - Numpy զանգվածները ավելի արդյունավետ են հիշողության օգտագործման առումով:"
   ]
  },
  {
   "cell_type": "markdown",
   "id": "0ac69fe6-4caf-4755-80a9-2c1d105ae7ad",
   "metadata": {
    "editable": true,
    "slideshow": {
     "slide_type": "fragment"
    },
    "tags": []
   },
   "source": [
    "4. **Բազմաչափություն** - Numpy-ը հեշտությամբ աշխատում է բազմաչափ զանգվածների հետ:"
   ]
  },
  {
   "cell_type": "markdown",
   "id": "88e676c5-0c14-44b5-8b31-758b66bc8c7a",
   "metadata": {
    "editable": true,
    "slideshow": {
     "slide_type": "slide"
    },
    "tags": []
   },
   "source": [
    "## Բազմաչափ զանգվածների (list/array)\n",
    "\n",
    "Բազմաչափ զանգվածները առավել հեշտ է հասկանալ, դիտարկելով դրանց մաթեմատիկական համարժեքները։ "
   ]
  },
  {
   "cell_type": "markdown",
   "id": "3659d920-ff2e-43f0-acca-785aa75e6c4f",
   "metadata": {
    "editable": true,
    "slideshow": {
     "slide_type": "subslide"
    },
    "tags": []
   },
   "source": [
    "**Միաչափ զանգվածի** (1D array) մաթեմատիկական համարժեքը **վեկտորն է**։ \n",
    "\n",
    "$$\\vec{v} = [1, 2, 3]$$\n",
    "$$\\vec{u} = [11, 12, 13]$$"
   ]
  },
  {
   "cell_type": "code",
   "execution_count": 3,
   "id": "579f69ad-54fa-4262-b723-964181d1a59d",
   "metadata": {
    "editable": true,
    "slideshow": {
     "slide_type": "fragment"
    },
    "tags": []
   },
   "outputs": [
    {
     "name": "stdout",
     "output_type": "stream",
     "text": [
      "[1 2 3]\n",
      "[11 12 13]\n"
     ]
    }
   ],
   "source": [
    "v = np.array([1, 2, 3])\n",
    "u = np.array([11, 12, 13])\n",
    "print(v)\n",
    "print(u)"
   ]
  },
  {
   "cell_type": "markdown",
   "id": "5220da35-7552-460b-831d-b4b3e3135ac4",
   "metadata": {
    "editable": true,
    "slideshow": {
     "slide_type": "subslide"
    },
    "tags": []
   },
   "source": [
    "**Երկչափ զանգվածի** (2D array) մաթեմատիկական համարժեքը **մատրիցան է**։\n",
    " $$\n",
    " \\hat{M} = \\begin{bmatrix}\n",
    " 1 & 2 & 3 \\\\\n",
    " 4 & 5 & 6 \\\\\n",
    " 7 & 8 & 9\n",
    " \\end{bmatrix}\n",
    " $$"
   ]
  },
  {
   "cell_type": "code",
   "execution_count": 4,
   "id": "96ddd745-d539-4eb8-806a-073f13b4f98f",
   "metadata": {
    "editable": true,
    "slideshow": {
     "slide_type": "fragment"
    },
    "tags": []
   },
   "outputs": [
    {
     "name": "stdout",
     "output_type": "stream",
     "text": [
      "[[1 2 3]\n",
      " [4 5 6]\n",
      " [7 8 9]]\n"
     ]
    }
   ],
   "source": [
    "M = np.array([[1, 2, 3], [4, 5, 6], [7, 8, 9,]])\n",
    "print(M)"
   ]
  },
  {
   "cell_type": "markdown",
   "id": "66e30452-cd02-4d1e-ad01-243070b902b4",
   "metadata": {
    "editable": true,
    "slideshow": {
     "slide_type": "subslide"
    },
    "tags": []
   },
   "source": [
    "\n",
    "**N-չափանի զանգվածի** (n-dimensional array) մաթեմատիկական համարժեքը **թենզորն է**։\n",
    "\n",
    "$$\n",
    "\\hat{T} = \\begin{bmatrix}\n",
    "\\begin{pmatrix}\n",
    "1 & 2 \\\\\n",
    "3 & 4\n",
    "\\end{pmatrix} &\n",
    "\\begin{pmatrix}\n",
    "5 & 6 \\\\\n",
    "7 & 8\n",
    "\\end{pmatrix} \\\\\n",
    "\\begin{pmatrix}\n",
    "9 & 10 \\\\\n",
    "11 & 12\n",
    "\\end{pmatrix} &\n",
    "\\begin{pmatrix}\n",
    "13 & 14 \\\\\n",
    "15 & 16\n",
    "\\end{pmatrix}\n",
    "\\end{bmatrix}\n",
    "$$\n"
   ]
  },
  {
   "cell_type": "code",
   "execution_count": 5,
   "id": "55c4d3ee-af8f-4f48-a59f-d82e92557408",
   "metadata": {
    "editable": true,
    "slideshow": {
     "slide_type": "fragment"
    },
    "tags": []
   },
   "outputs": [
    {
     "name": "stdout",
     "output_type": "stream",
     "text": [
      "[[[[ 1  2]\n",
      "   [ 3  4]]\n",
      "\n",
      "  [[ 5  6]\n",
      "   [ 7  8]]]\n",
      "\n",
      "\n",
      " [[[ 9 10]\n",
      "   [11 12]]\n",
      "\n",
      "  [[13 14]\n",
      "   [15 16]]]]\n"
     ]
    }
   ],
   "source": [
    "T = np.array([\n",
    "    [\n",
    "        [[1, 2], [3, 4]],\n",
    "        [[5, 6], [7, 8]]\n",
    "    ],\n",
    "    [\n",
    "        [[9, 10], [11, 12]],\n",
    "        [[13, 14], [15, 16]]\n",
    "    ]\n",
    "])\n",
    "print(T)"
   ]
  },
  {
   "cell_type": "markdown",
   "id": "4c2090a4-d69b-43ae-9de2-076fd4305c8b",
   "metadata": {},
   "source": [
    "### Numpy զանգվածների հատկանիշներ\n",
    "\n",
    "NumPy-ում չափողականությունները (dimension) կոչվում են առանցքներ (axes)։\n",
    "\n",
    "Օրինակ, եռաչափ տարածության մեջ կետի կոորդինատների զանգվածը՝ `[1, 2, 1]`, ունի մեկ առանցք: Այդ առանցքն ունի 3 տարր (element), այսպիսով ասում ենք, որ այն ունի 3 երկարություն (lenght): Ստորև պատկերված օրինակում զանգվածն ունի 2 առանցք: Առաջին առանցքն ունի 2 երկարություն, երկրորդ առանցքն ունի 3 երկարություն:"
   ]
  },
  {
   "cell_type": "code",
   "execution_count": 6,
   "id": "715339fc-baf7-457e-87d0-b958444e25a7",
   "metadata": {},
   "outputs": [
    {
     "name": "stdout",
     "output_type": "stream",
     "text": [
      "[[1. 0. 0.]\n",
      " [0. 1. 2.]]\n"
     ]
    }
   ],
   "source": [
    "print(np.array([[1., 0., 0.],\n",
    " [0., 1., 2.]]))"
   ]
  },
  {
   "cell_type": "markdown",
   "id": "af17f9a4-9b92-45d8-8ee7-c7a5b2ac5230",
   "metadata": {},
   "source": [
    "NumPy-ի զանգվածի դասը (class) կոչվում է `ndarray`, ինչը համարժեք Է `np.array`-ին: `ndarray` օբյեկտի առավել կարևոր հատկանիշներն են.\n",
    "\n",
    "**ndarray.ndim** - զանգվածի առանցքների (չափողականությունների) քանակը:"
   ]
  },
  {
   "cell_type": "code",
   "execution_count": 7,
   "id": "f93db58d-a6b6-47a9-b108-fe5871d0df86",
   "metadata": {},
   "outputs": [
    {
     "name": "stdout",
     "output_type": "stream",
     "text": [
      "1\n",
      "2\n",
      "4\n"
     ]
    }
   ],
   "source": [
    "print(v.ndim)\n",
    "print(M.ndim)\n",
    "print(T.ndim)"
   ]
  },
  {
   "cell_type": "markdown",
   "id": "ba3cf53a-ea2f-40b5-9fbe-18d8eec80d61",
   "metadata": {},
   "source": [
    "**ndarray.shape** - զանգվածի չափերը: Սա ամբողջ թվերի tuple է, որը ցույց է տալիս զանգվածի երկարությունը յուրաքանչյուր չափողականության մեջ: *n* տողերով և *m* սյուներով մատրիցի համար `shape`-ը կլինի `(n,m)`:"
   ]
  },
  {
   "cell_type": "code",
   "execution_count": 8,
   "id": "d8a96837-3b93-4065-bd7c-40c82dcf2862",
   "metadata": {},
   "outputs": [
    {
     "name": "stdout",
     "output_type": "stream",
     "text": [
      "(3,)\n",
      "(3, 3)\n",
      "(2, 2, 2, 2)\n"
     ]
    }
   ],
   "source": [
    "print(v.shape)\n",
    "print(M.shape)\n",
    "print(T.shape)"
   ]
  },
  {
   "cell_type": "markdown",
   "id": "cfd22f85-76ed-4f48-961e-c9991ea9ba7b",
   "metadata": {},
   "source": [
    "**ndarray.size** - զանգվածի տարրերի ընդհանուր քանակը: Սա հավասար է `shape`-ի տարրերի արտադրյալին:"
   ]
  },
  {
   "cell_type": "code",
   "execution_count": 9,
   "id": "20287bdc-7b60-463a-a969-17b6431f5328",
   "metadata": {},
   "outputs": [
    {
     "name": "stdout",
     "output_type": "stream",
     "text": [
      "3\n",
      "9\n",
      "16\n"
     ]
    }
   ],
   "source": [
    "print(v.size)\n",
    "print(M.size)\n",
    "print(T.size)"
   ]
  },
  {
   "cell_type": "markdown",
   "id": "0bfa46c7-2072-4e32-b382-9f6f94f9861f",
   "metadata": {},
   "source": [
    "### Բազմաչափ զանգվածների կառուցման ծրագրային մեթոդներ\n",
    "\n",
    "Նախորդիվ նկարագրված մեթոդով կարելի է հեշտությամբ ստեղծել numpy զանգվածներ, եթե նախորոք ունենք python list։ Հնարավոր է նաև կառուցել դրանք numpy-ի հատուկ ֆունկցիաների միջոցով։ "
   ]
  },
  {
   "cell_type": "markdown",
   "id": "08408a8e-8f09-4fa3-a3da-2d539266716d",
   "metadata": {},
   "source": [
    "Հաճախ զանգվածի տարրերը սկզբնապես անհայտ են, բայց դրա չափը հայտնի է: Հետևաբար, NumPy-ն առաջարկում է մի քանի ֆունկցիաներ՝ սկզբնական տեղապահ բովանդակությամբ զանգվածներ ստեղծելու համար:\n",
    "\n",
    "`zeros` ֆունկցիան ստեղծում է զրոներով լի զանգված, `ones` ֆունկցիան ստեղծում է մեկերով լի զանգված, իսկ `empty` ֆունկցիան ստեղծում է զանգված, որի սկզբնական բովանդակությունը պատահական է և կախված է հիշողության վիճակից:\n",
    "\n",
    "Որպես արգումենտ այս ֆունկցիաները սպասում են tuple, որը նկարագրում Է զանգվածի չափերը (`shape`)"
   ]
  },
  {
   "cell_type": "code",
   "execution_count": 10,
   "id": "1a79cd20-eab5-4b71-bf04-77ff74cc6550",
   "metadata": {},
   "outputs": [
    {
     "name": "stdout",
     "output_type": "stream",
     "text": [
      "[[0. 0. 0.]\n",
      " [0. 0. 0.]\n",
      " [0. 0. 0.]]\n"
     ]
    }
   ],
   "source": [
    "print(np.zeros((3,3)))"
   ]
  },
  {
   "cell_type": "code",
   "execution_count": 11,
   "id": "d28bc50e-46d4-4924-b3b9-0fa6f3af26ba",
   "metadata": {},
   "outputs": [
    {
     "name": "stdout",
     "output_type": "stream",
     "text": [
      "[[1. 1. 1. 1.]\n",
      " [1. 1. 1. 1.]]\n"
     ]
    }
   ],
   "source": [
    "print(np.ones((2,4)))"
   ]
  },
  {
   "cell_type": "code",
   "execution_count": 12,
   "id": "dc417e8b-9219-4087-a895-6e07febe79e1",
   "metadata": {},
   "outputs": [
    {
     "name": "stdout",
     "output_type": "stream",
     "text": [
      "[[0. 0.]]\n"
     ]
    }
   ],
   "source": [
    "print(np.empty((1,2)))"
   ]
  },
  {
   "cell_type": "markdown",
   "id": "2e4b0601-b562-4376-a897-01d73ed5fd2f",
   "metadata": {},
   "source": [
    "Թվերի հաջորդականություններ ստեղծելու համար NumPy-ն տրամադրում է `arange` ֆունկցիան, որը նման է Python-ի ներկառուցված range ֆունկցիային:"
   ]
  },
  {
   "cell_type": "code",
   "execution_count": 13,
   "id": "9409373b-bf18-446b-ab47-874dab083a86",
   "metadata": {},
   "outputs": [
    {
     "name": "stdout",
     "output_type": "stream",
     "text": [
      "[10 15 20 25]\n"
     ]
    }
   ],
   "source": [
    "print(np.arange(10, 30, 5))"
   ]
  },
  {
   "cell_type": "markdown",
   "id": "771df095-312b-47b3-ae0a-2427f3e6f529",
   "metadata": {},
   "source": [
    "Սովորաբար ավելի լավ է օգտագործել `linspace` ֆունկցիան, որը որպես արգումենտ ստանում է տարրերի քանակը, քայլի փոխարեն:"
   ]
  },
  {
   "cell_type": "code",
   "execution_count": 14,
   "id": "8a8f6562-a60c-4548-a99d-7b107b4a7c3d",
   "metadata": {},
   "outputs": [
    {
     "name": "stdout",
     "output_type": "stream",
     "text": [
      "[0.   0.25 0.5  0.75 1.   1.25 1.5  1.75 2.  ]\n"
     ]
    }
   ],
   "source": [
    "print(np.linspace(0, 2, 9))"
   ]
  },
  {
   "cell_type": "markdown",
   "id": "afbcb0d8-1bea-419e-a79e-892874abfd94",
   "metadata": {
    "editable": true,
    "slideshow": {
     "slide_type": "slide"
    },
    "tags": []
   },
   "source": [
    "## Մաթեմատիկական գործողություններ\n",
    "\n",
    "NumPy-ի գրադարանը ունի բազմաթիվ մաթեմատիկական ֆունկցիաներ՝ վեկտորական և մատրիցային գործողություններից մինչև վիճակագրական և երկրաչափական ֆունկցիաներ:"
   ]
  },
  {
   "cell_type": "markdown",
   "id": "5699ccd4-7043-412b-a035-f0ce0b3d8d92",
   "metadata": {},
   "source": [
    "Հիմնական մաթեմատիկական գործողությունները իրականացվում են առանձին տարրերի միջև (element-wise)"
   ]
  },
  {
   "cell_type": "markdown",
   "id": "423be74e-b591-496d-aa02-4996b2055dab",
   "metadata": {},
   "source": [
    "$$\n",
    "v + u = [1, 2, 3] + [11, 12, 13]\n",
    "$$"
   ]
  },
  {
   "cell_type": "code",
   "execution_count": 15,
   "id": "8e186538-65a2-4759-af36-9b46ab116f0e",
   "metadata": {},
   "outputs": [
    {
     "name": "stdout",
     "output_type": "stream",
     "text": [
      "[12 14 16]\n"
     ]
    }
   ],
   "source": [
    "print(v + u)"
   ]
  },
  {
   "cell_type": "markdown",
   "id": "01aef8cf-3ee6-4a5c-ae9d-5cf6f6983195",
   "metadata": {},
   "source": [
    "$$\n",
    "u * v = [11, 12, 13] * [1, 2, 3]\n",
    "$$"
   ]
  },
  {
   "cell_type": "code",
   "execution_count": 16,
   "id": "40720873-4dc8-4d17-a58a-09c7ff04d38e",
   "metadata": {},
   "outputs": [
    {
     "name": "stdout",
     "output_type": "stream",
     "text": [
      "[11 24 39]\n"
     ]
    }
   ],
   "source": [
    "print(u*v)"
   ]
  },
  {
   "cell_type": "markdown",
   "id": "6a2a9b0f-47ab-4778-a41f-51bb58f49a0d",
   "metadata": {
    "editable": true,
    "slideshow": {
     "slide_type": "subslide"
    },
    "tags": []
   },
   "source": [
    "### Սկալյար արտադրյալ\n",
    "\n",
    "Սկալյար արտադրյալ կատարվում է `np.dot(v1, v2)` ֆունկցիայի միջոցով։"
   ]
  },
  {
   "cell_type": "markdown",
   "id": "8f543cc9-581f-4bb1-8dd6-3bac7d911d53",
   "metadata": {
    "editable": true,
    "slideshow": {
     "slide_type": "fragment"
    },
    "tags": []
   },
   "source": [
    "$$\n",
    "v \\cdot u = [1, 2, 3] \\cdot [11, 12, 13]^T\n",
    "$$"
   ]
  },
  {
   "cell_type": "code",
   "execution_count": 17,
   "id": "63643714-c670-46ca-93b8-dd46ad1a1c28",
   "metadata": {
    "editable": true,
    "slideshow": {
     "slide_type": "fragment"
    },
    "tags": []
   },
   "outputs": [
    {
     "name": "stdout",
     "output_type": "stream",
     "text": [
      "74\n"
     ]
    }
   ],
   "source": [
    "print(np.dot(v, u))"
   ]
  },
  {
   "cell_type": "markdown",
   "id": "775c3119-3623-4612-bced-b6f3e0f0f19a",
   "metadata": {
    "editable": true,
    "slideshow": {
     "slide_type": "fragment"
    },
    "tags": []
   },
   "source": [
    " $$\n",
    " \\vec{v}\\hat{M} = [1, 2, 3] \\begin{bmatrix}\n",
    " 1 & 2 & 3 \\\\\n",
    " 4 & 5 & 6 \\\\\n",
    " 7 & 8 & 9\n",
    " \\end{bmatrix}\n",
    " $$"
   ]
  },
  {
   "cell_type": "code",
   "execution_count": 18,
   "id": "0caa13da-9943-4464-b051-ee0c4ded393f",
   "metadata": {
    "editable": true,
    "slideshow": {
     "slide_type": "fragment"
    },
    "tags": []
   },
   "outputs": [
    {
     "name": "stdout",
     "output_type": "stream",
     "text": [
      "[30 36 42]\n"
     ]
    }
   ],
   "source": [
    "print(np.dot(v, M))"
   ]
  },
  {
   "cell_type": "markdown",
   "id": "90f132ac-7201-4dde-9407-7de5903f4539",
   "metadata": {},
   "source": [
    "Կարելի նաև վեկտորները միավորել և ստանալ մատրիցա։ Օրինակ.\n",
    "$$\n",
    "\\hat{A} = \\begin{bmatrix}\n",
    " u \\\\\n",
    " v \\\\\n",
    " \\end{bmatrix} = \\begin{bmatrix}\n",
    " 1 & 2 & 3 \\\\\n",
    " 11 & 12 & 13 \\\\\n",
    " \\end{bmatrix}\n",
    "$$\n"
   ]
  },
  {
   "cell_type": "code",
   "execution_count": 19,
   "id": "9928210b-a602-4a12-8eba-0b5f8b02f3dc",
   "metadata": {},
   "outputs": [
    {
     "name": "stdout",
     "output_type": "stream",
     "text": [
      "[[ 1  2  3]\n",
      " [11 12 13]]\n"
     ]
    }
   ],
   "source": [
    "A = np.array([v, u])\n",
    "print(A)"
   ]
  },
  {
   "cell_type": "markdown",
   "id": "7164e751-3879-44d4-a749-0aa12b72d555",
   "metadata": {},
   "source": [
    "և կատարել գործողություններ դրա հետ: \n",
    "$$\n",
    " \\hat{A}\\cdot\\hat{M} = \\begin{bmatrix}\n",
    " 1 & 2 & 3 \\\\\n",
    " 11 & 12 & 13 \\\\\n",
    " \\end{bmatrix} \\cdot \\begin{bmatrix}\n",
    " 1 & 2 & 3 \\\\\n",
    " 4 & 5 & 6 \\\\\n",
    " 7 & 8 & 9\n",
    " \\end{bmatrix}\n",
    "$$"
   ]
  },
  {
   "cell_type": "code",
   "execution_count": 20,
   "id": "11f5ef14-d35a-445c-8d59-e5a5a495d31e",
   "metadata": {},
   "outputs": [
    {
     "name": "stdout",
     "output_type": "stream",
     "text": [
      "[[ 30  36  42]\n",
      " [150 186 222]]\n"
     ]
    }
   ],
   "source": [
    "print(np.dot(A, M))"
   ]
  },
  {
   "cell_type": "markdown",
   "id": "ec91d01d-50bc-44d9-91fd-73f786341322",
   "metadata": {},
   "source": [
    "Սակայն արտադրիչները տեղերը փոխելիս, ստանում ենք սխալ։"
   ]
  },
  {
   "cell_type": "code",
   "execution_count": 21,
   "id": "f9a5713d-c8a9-453d-b3b3-d157f6beaf1d",
   "metadata": {},
   "outputs": [
    {
     "ename": "ValueError",
     "evalue": "shapes (3,3) and (2,3) not aligned: 3 (dim 1) != 2 (dim 0)",
     "output_type": "error",
     "traceback": [
      "\u001b[0;31m---------------------------------------------------------------------------\u001b[0m",
      "\u001b[0;31mValueError\u001b[0m                                Traceback (most recent call last)",
      "Cell \u001b[0;32mIn[21], line 1\u001b[0m\n\u001b[0;32m----> 1\u001b[0m \u001b[38;5;28mprint\u001b[39m(\u001b[43mnp\u001b[49m\u001b[38;5;241;43m.\u001b[39;49m\u001b[43mdot\u001b[49m\u001b[43m(\u001b[49m\u001b[43mM\u001b[49m\u001b[43m,\u001b[49m\u001b[43m \u001b[49m\u001b[43mA\u001b[49m\u001b[43m)\u001b[49m)\n",
      "\u001b[0;31mValueError\u001b[0m: shapes (3,3) and (2,3) not aligned: 3 (dim 1) != 2 (dim 0)"
     ]
    }
   ],
   "source": [
    "print(np.dot(M, A))"
   ]
  },
  {
   "cell_type": "markdown",
   "id": "73e46387-6344-41ed-80f2-b832034da1cc",
   "metadata": {},
   "source": [
    "*Ի՞նչով է դա պայմանավորված։*"
   ]
  },
  {
   "cell_type": "markdown",
   "id": "27d8ff81-515d-4759-8231-d4d6bd7cfc4a",
   "metadata": {},
   "source": [
    "Երկու մատրիցա հնարավոր է բազմապատկել միայն այն դեպքում, եթե արտադրյալի ձախ կողմում գտնվող մատրիցայի\n",
    "սյուների քանակը հավասար է աջ կողմում գտնվող մատրիցայի տողերի քանակին։ Այսինքն numpy-ն սխալ մաթեմատիկական գործողություններ չի փորձի իրականցնել։ Մատրիցայի տողերի և սյուների քանակը կարող ենք գտել օգտվելով `np.shape()` ֆունկցիայից։"
   ]
  },
  {
   "cell_type": "code",
   "execution_count": 22,
   "id": "8e6684bd-735a-4beb-8e30-a043b04c06f2",
   "metadata": {},
   "outputs": [
    {
     "name": "stdout",
     "output_type": "stream",
     "text": [
      "(3, 3)\n",
      "(2, 3)\n"
     ]
    }
   ],
   "source": [
    "print(np.shape(M))\n",
    "print(np.shape(A))"
   ]
  },
  {
   "cell_type": "markdown",
   "id": "0ce8f491-143d-4fd3-971b-0f8a1ef024ac",
   "metadata": {},
   "source": [
    "Մաթեմատիկորեն սակայն թույլատրելի է հետևյալ գործողությունը.\n",
    "$$\n",
    "\\hat{M}\\cdot\\hat{A}^T\n",
    "$$"
   ]
  },
  {
   "cell_type": "code",
   "execution_count": 23,
   "id": "706096c4-c631-492d-afab-a8154d6b84e8",
   "metadata": {},
   "outputs": [
    {
     "name": "stdout",
     "output_type": "stream",
     "text": [
      "[[ 1 11]\n",
      " [ 2 12]\n",
      " [ 3 13]]\n"
     ]
    }
   ],
   "source": [
    "print(np.transpose(A))"
   ]
  },
  {
   "cell_type": "code",
   "execution_count": 24,
   "id": "a3996f1b-47a6-4e89-a193-f281a2e859a7",
   "metadata": {},
   "outputs": [
    {
     "name": "stdout",
     "output_type": "stream",
     "text": [
      "[[ 14  74]\n",
      " [ 32 182]\n",
      " [ 50 290]]\n"
     ]
    }
   ],
   "source": [
    "print(np.dot(M, np.transpose(A)))"
   ]
  },
  {
   "cell_type": "markdown",
   "id": "8de6d2a4-32c2-46c3-9aee-88eb194494fb",
   "metadata": {},
   "source": [
    "### Վեկտորական արտադրյալ\n",
    "\n",
    "Վեկտորական արտադրյալ կատարվում է `np.cross(v1, v2)` ֆունկցիայի միջոցով։"
   ]
  },
  {
   "cell_type": "markdown",
   "id": "9793ad62-81bd-4f29-967d-b1b7223c907c",
   "metadata": {},
   "source": [
    "$$\n",
    "v \\times u = \\begin{vmatrix}\n",
    " \\vec{i} & \\vec{j} & \\vec{k} \\\\\n",
    " 1 & 2 & 3 \\\\\n",
    " 11 & 12 & 13\n",
    " \\end{vmatrix}\n",
    "$$"
   ]
  },
  {
   "cell_type": "code",
   "execution_count": 25,
   "id": "1039ed44-862a-4701-9655-786baa2ec387",
   "metadata": {},
   "outputs": [
    {
     "name": "stdout",
     "output_type": "stream",
     "text": [
      "[-10  20 -10]\n"
     ]
    }
   ],
   "source": [
    "print(np.cross(v, u))"
   ]
  },
  {
   "cell_type": "markdown",
   "id": "0a1e4923-4cbd-4802-8426-7719ec4b7981",
   "metadata": {},
   "source": [
    "### Այլ օգտակար գործողություններ"
   ]
  },
  {
   "cell_type": "markdown",
   "id": "c751d554-4779-4c55-9c04-f047f6a5ecb1",
   "metadata": {},
   "source": [
    "#### Գումար (`sum`)\n",
    "\n",
    "`sum` հաշվում է զանգվածում տարրերի գումարը։\n",
    "\n",
    "$$\n",
    "s = \\sum_{i=1}^3 v_i\n",
    "$$"
   ]
  },
  {
   "cell_type": "code",
   "execution_count": 26,
   "id": "64f7a37c-15da-48cc-900b-524d4e9b8063",
   "metadata": {},
   "outputs": [
    {
     "name": "stdout",
     "output_type": "stream",
     "text": [
      "6\n"
     ]
    }
   ],
   "source": [
    "print(v.sum())"
   ]
  },
  {
   "cell_type": "markdown",
   "id": "c8f42c6a-14ed-442e-83da-156dba4d6e79",
   "metadata": {},
   "source": [
    "Այս գործողություննը կարելի է նաև իրականացնել մատրիցաների վրա։\n",
    "\n",
    "$$\n",
    "s = \\sum_{i=1}^3\\sum_{j=1}^3 M_{i,j}\n",
    "$$"
   ]
  },
  {
   "cell_type": "code",
   "execution_count": 27,
   "id": "5e0b266b-7ef8-4ca8-b3bb-92fd718d2e2d",
   "metadata": {},
   "outputs": [
    {
     "name": "stdout",
     "output_type": "stream",
     "text": [
      "45\n"
     ]
    }
   ],
   "source": [
    "print(M.sum())"
   ]
  },
  {
   "cell_type": "markdown",
   "id": "d56f31fa-506e-4010-8592-873cedba04ed",
   "metadata": {},
   "source": [
    "Հնարավոր է նաև տանել գումարը միայն տողերից կամ սյուներից մեկով։\n",
    "\n",
    "$$\n",
    "s = \\sum_{i=1}^3 M_{i,2}\n",
    "$$"
   ]
  },
  {
   "cell_type": "code",
   "execution_count": 28,
   "id": "7ff3d8c7-0c6f-4f2b-b701-2be79cdc53f1",
   "metadata": {},
   "outputs": [
    {
     "name": "stdout",
     "output_type": "stream",
     "text": [
      "15\n"
     ]
    }
   ],
   "source": [
    "print(M[:, 1].sum())"
   ]
  },
  {
   "cell_type": "markdown",
   "id": "27efa95c-4f2c-4ef2-b2ae-c60dbeef80b3",
   "metadata": {},
   "source": [
    "Հնարավոր է մատրիցայից ստանալ վեկտոր գումարելով բոլոր տողերը կամ սյուները միմյանց։\n",
    "\n",
    "$$\n",
    "\\vec{k} = \\left[\\sum_{i=1}^3 M_{i,1} \\ \\ , \\ \\sum_{i=1}^3 M_{i,2} \\ \\ , \\ \\sum_{i=1}^3 M_{i,3}\\right]\n",
    "$$"
   ]
  },
  {
   "cell_type": "code",
   "execution_count": 31,
   "id": "e021338e-f3aa-4b3f-9bcb-ff06a9b90b2f",
   "metadata": {},
   "outputs": [
    {
     "name": "stdout",
     "output_type": "stream",
     "text": [
      "[12 15 18]\n"
     ]
    }
   ],
   "source": [
    "print(M.sum(axis=0))"
   ]
  },
  {
   "cell_type": "markdown",
   "id": "af284026-5c96-4df8-b83c-57cf5dc3bb90",
   "metadata": {},
   "source": [
    "#### Առավելագույն (`max`) և նվազագույն (`min`) արժեքներ\n",
    "\n",
    "Զանգվածի առավելագույն և նվազագույն արժեքները գտնելու համար օգտվում ենք `.max()` ֆունկցիաներից `.min()`։\n",
    "\n",
    "$$\n",
    "\\max(\\vec{v}) = 3\n",
    "$$"
   ]
  },
  {
   "cell_type": "code",
   "execution_count": 32,
   "id": "aa43916e-ca6d-4093-baab-4d0f5436ed1c",
   "metadata": {},
   "outputs": [
    {
     "name": "stdout",
     "output_type": "stream",
     "text": [
      "3\n"
     ]
    }
   ],
   "source": [
    "print(v.max())"
   ]
  },
  {
   "cell_type": "markdown",
   "id": "22f16ec2-41eb-47f2-bd37-22d897dcb5f9",
   "metadata": {},
   "source": [
    "Այստեղ նույնպես կարելի է մատրիցայից ստանալ վեկտոր, օրինակ գտնելով ամեն տողում նվազագույն արժեքը։\n",
    "\n",
    "$$\n",
    "\\vec{m} = \\left[ \\min(M_{1, i}) \\ \\ , \\ \\min(M_{2, i}) \\ \\ , \\ \\min(M_{3, i}) \\right]\n",
    "$$"
   ]
  },
  {
   "cell_type": "code",
   "execution_count": 33,
   "id": "19e7b260-da2d-4914-97d0-b0611ea9d33a",
   "metadata": {},
   "outputs": [
    {
     "name": "stdout",
     "output_type": "stream",
     "text": [
      "[1 4 7]\n"
     ]
    }
   ],
   "source": [
    "print(M.min(axis=1))"
   ]
  },
  {
   "cell_type": "markdown",
   "id": "1cdc852d-861f-4bc3-a1bf-977fa0e8cd35",
   "metadata": {},
   "source": [
    "#### Sin, Cos և այլն\n",
    "\n",
    "Բազմաթիվ այլ ֆունկցիաներ կան, որոնցով կարելի է ազդել զանգվածի ամեն տարրի վրա, ինչպիսիք են `.sin()`, `.cos()`, `.exp()`"
   ]
  },
  {
   "cell_type": "code",
   "execution_count": 34,
   "id": "017ccbc6-32d9-4778-bb81-f706bde8474a",
   "metadata": {},
   "outputs": [
    {
     "name": "stdout",
     "output_type": "stream",
     "text": [
      "[0.84147098 0.90929743 0.14112001]\n"
     ]
    }
   ],
   "source": [
    "print(np.sin(v))"
   ]
  },
  {
   "cell_type": "code",
   "execution_count": 35,
   "id": "6c3f8673-1b15-4c69-8c32-1485a5c8b0ea",
   "metadata": {},
   "outputs": [
    {
     "name": "stdout",
     "output_type": "stream",
     "text": [
      "[ 0.54030231 -0.41614684 -0.9899925 ]\n"
     ]
    }
   ],
   "source": [
    "print(np.cos(v))"
   ]
  },
  {
   "cell_type": "code",
   "execution_count": 36,
   "id": "3af025cd-209c-4410-b970-a463039039c9",
   "metadata": {},
   "outputs": [
    {
     "name": "stdout",
     "output_type": "stream",
     "text": [
      "[ 2.71828183  7.3890561  20.08553692]\n"
     ]
    }
   ],
   "source": [
    "print(np.exp(v))"
   ]
  },
  {
   "cell_type": "markdown",
   "id": "76698a80-b36d-487e-b94d-c44d127d9ade",
   "metadata": {},
   "source": [
    "# Զանգվածների պատկերում MatPlotLib-ով"
   ]
  },
  {
   "cell_type": "markdown",
   "id": "c538a744-8994-4e62-96e7-38da4185e47b",
   "metadata": {},
   "source": [
    "**Matplotlib**-ը Python-ի գրադարան է, որը թույլ է տալիս ստեղծել գրաֆիկներ։ Այն լայնորեն օգտագործվում է տվյալների պատկերավորման համար։ Matplotlib-ը հիմնականում գործածվում է որպես 2D գրաֆիկական գործիք, բայց ունի նաև 3D պատկերներ ստեղծելու հնարավորություններ:\n",
    "\n",
    "Այն կարելի է են ներմուծել `plt` անվանմամբ հետևյալ հրահանգով։"
   ]
  },
  {
   "cell_type": "code",
   "execution_count": 37,
   "id": "66e89b2b-9cbc-4ad1-9fb9-3427e73e48bf",
   "metadata": {},
   "outputs": [],
   "source": [
    "import matplotlib.pyplot as plt"
   ]
  },
  {
   "cell_type": "markdown",
   "id": "9a8b607c-f81c-4884-a640-b8f143029341",
   "metadata": {},
   "source": [
    "Նախ ստեղծենք այն տվյլաները, որ ուզում ենք պատկերել։ Սկսենք պարզ օրինակից. պարաբոլայից։\n",
    "$$\n",
    "y = x^2\n",
    "$$"
   ]
  },
  {
   "cell_type": "code",
   "execution_count": 38,
   "id": "9ba95f78-f313-4877-8557-97e915d7cf1a",
   "metadata": {},
   "outputs": [],
   "source": [
    "x = np.linspace(-10, 10, 21)\n",
    "y = x**2"
   ]
  },
  {
   "cell_type": "markdown",
   "id": "2888e647-ce3b-4f70-9b40-d0d5db0e1af2",
   "metadata": {},
   "source": [
    "Գրաֆիկի `x` և `y` առանցքների կետերը տալիս ենք `plt.plot()` ֆունկցիայի միջոցով։ Իսկ գրաֆիկը պատկերել կարող ենք `plt.show()` ֆունկցիայի միջոցով:"
   ]
  },
  {
   "cell_type": "code",
   "execution_count": 39,
   "id": "06cbeb83-700d-4ebf-9606-3daf7e465aa5",
   "metadata": {},
   "outputs": [
    {
     "data": {
      "image/png": "[encoded data removed]",
      "text/plain": [
       "<Figure size 640x480 with 1 Axes>"
      ]
     },
     "metadata": {},
     "output_type": "display_data"
    }
   ],
   "source": [
    "plt.plot(x, y)\n",
    "plt.show()"
   ]
  },
  {
   "cell_type": "markdown",
   "id": "4cea3b9b-9e14-4896-8be3-41222e8faf9e",
   "metadata": {},
   "source": [
    "Ինպես տեսնում ենք, չնայած այն բանի, որ ֆունկցիային տրվել են դիսկրետ կետեր, այն պատկերում է հոծ գիծ։ Այս պահվածքը կարելի փոխել, սահմանելով կորի տեսքը որպես `plt.plot()` ֆունկցիայի երրորդ արգումենտ։ "
   ]
  },
  {
   "cell_type": "code",
   "execution_count": 40,
   "id": "6070de04-9e7e-4742-bbc6-5d6c60f3ea26",
   "metadata": {},
   "outputs": [
    {
     "data": {
      "image/png": "[encoded data removed]",
      "text/plain": [
       "<Figure size 640x480 with 1 Axes>"
      ]
     },
     "metadata": {},
     "output_type": "display_data"
    }
   ],
   "source": [
    "plt.plot(x, y, '.')\n",
    "plt.show()"
   ]
  },
  {
   "cell_type": "code",
   "execution_count": 41,
   "id": "aead2d21-55da-4c78-976b-f5025e7a75d1",
   "metadata": {},
   "outputs": [
    {
     "data": {
      "image/png": "[encoded data removed]",
      "text/plain": [
       "<Figure size 640x480 with 1 Axes>"
      ]
     },
     "metadata": {},
     "output_type": "display_data"
    }
   ],
   "source": [
    "plt.plot(x, y, '--')\n",
    "plt.show()"
   ]
  },
  {
   "cell_type": "code",
   "execution_count": 42,
   "id": "49c1f643-ec48-4f7d-8241-c12ff33c213c",
   "metadata": {},
   "outputs": [
    {
     "data": {
      "image/png": "[encoded data removed]",
      "text/plain": [
       "<Figure size 640x480 with 1 Axes>"
      ]
     },
     "metadata": {},
     "output_type": "display_data"
    }
   ],
   "source": [
    "plt.plot(x, y, '-.')\n",
    "plt.show()"
   ]
  },
  {
   "cell_type": "markdown",
   "id": "8ef041db-5d7e-4277-bfdd-632cd0cc04d2",
   "metadata": {},
   "source": [
    "Գրաֆիկի առանցքների անվանումները տրվում են `plt.xlabel()` և `plt.ylabel()` ֆունկցիաներին։"
   ]
  },
  {
   "cell_type": "code",
   "execution_count": 45,
   "id": "d282fb9c-6b54-416f-bbe4-51c3d563c59d",
   "metadata": {},
   "outputs": [
    {
     "data": {
      "image/png": "[encoded data removed]",
      "text/plain": [
       "<Figure size 640x480 with 1 Axes>"
      ]
     },
     "metadata": {},
     "output_type": "display_data"
    }
   ],
   "source": [
    "plt.plot(x, y)\n",
    "plt.xlabel('x (My x axis)')\n",
    "plt.ylabel('$x^2$ (My y axis)')\n",
    "plt.show()"
   ]
  },
  {
   "cell_type": "markdown",
   "id": "bfe4f08b-d47e-4577-933d-c2ead2eeb1d4",
   "metadata": {},
   "source": [
    "Հնարավոր է նաև միևնույն գրաֆիկում պատկերել մեկից ավել կորեր։"
   ]
  },
  {
   "cell_type": "code",
   "execution_count": 125,
   "id": "6813b589-8276-4b5f-b4d9-c635db50b37a",
   "metadata": {},
   "outputs": [
    {
     "data": {
      "image/png": "[encoded data removed]",
      "text/plain": [
       "<Figure size 640x480 with 1 Axes>"
      ]
     },
     "metadata": {},
     "output_type": "display_data"
    }
   ],
   "source": [
    "z = np.sin(x)*50 + 50\n",
    "plt.plot(x, y)\n",
    "plt.plot(x, z)\n",
    "plt.show()"
   ]
  },
  {
   "cell_type": "markdown",
   "id": "8f1f5a62-72c7-4b46-a460-9130615a3531",
   "metadata": {},
   "source": [
    "Ինչպես տեսնում ենք, նոր կորերը պատկերվում են տարբեր գույնով, առանց մեր կողմից սահմանվելու, սակայ կորի գույնը նույնպես կարողենք սահմանել։"
   ]
  },
  {
   "cell_type": "code",
   "execution_count": 126,
   "id": "1574deef-cd5c-4224-b33f-c8bbf95a0160",
   "metadata": {},
   "outputs": [
    {
     "data": {
      "image/png": "[encoded data removed]",
      "text/plain": [
       "<Figure size 640x480 with 1 Axes>"
      ]
     },
     "metadata": {},
     "output_type": "display_data"
    }
   ],
   "source": [
    "z = np.sin(x)*50 + 50\n",
    "plt.plot(x, y, 'b-')\n",
    "plt.plot(x, z, 'r--')\n",
    "plt.show()"
   ]
  },
  {
   "cell_type": "markdown",
   "id": "cae3327e-0bae-4d7d-8fb7-721483d95828",
   "metadata": {},
   "source": [
    "Ի՞նչու `sin()`-ի կորը *սահուն* չէ, և ի՞նչպես ուղղել դա։"
   ]
  },
  {
   "cell_type": "code",
   "execution_count": 135,
   "id": "103094de-ecb5-4a5f-a6d6-9499464d9bc5",
   "metadata": {},
   "outputs": [
    {
     "data": {
      "image/png": "[encoded data removed]",
      "text/plain": [
       "<Figure size 640x480 with 1 Axes>"
      ]
     },
     "metadata": {},
     "output_type": "display_data"
    }
   ],
   "source": [
    "x1 = np.linspace(-10, 10, 21) \n",
    "x2 = np.linspace(-10, 10, 201) \n",
    "\n",
    "plt.plot(x1, np.sin(x1)*50 + 50, 'r-')\n",
    "plt.plot(x2, np.sin(x2)*50 + 50, 'b--')\n",
    "\n",
    "plt.show()"
   ]
  }
 ],
 "metadata": {
  "kernelspec": {
   "display_name": "Python 3 (ipykernel)",
   "language": "python",
   "name": "python3"
  },
  "language_info": {
   "codemirror_mode": {
    "name": "ipython",
    "version": 3
   },
   "file_extension": ".py",
   "mimetype": "text/x-python",
   "name": "python",
   "nbconvert_exporter": "python",
   "pygments_lexer": "ipython3",
   "version": "3.12.2"
  }
 },
 "nbformat": 4,
 "nbformat_minor": 5
}
